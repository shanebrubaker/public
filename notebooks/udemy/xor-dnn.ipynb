{
 "cells": [
  {
   "cell_type": "code",
   "execution_count": null,
   "id": "54f06aef-f3f5-4107-ab66-ce363cf917a4",
   "metadata": {},
   "outputs": [],
   "source": [
    "# Import modules\n",
    "import numpy as np\n",
    "from tensorflow.keras.models import Sequential  # Use Keras via TensorFlow\n",
    "from tensorflow.keras.layers import Dense"
   ]
  },
  {
   "cell_type": "code",
   "execution_count": null,
   "id": "cbae054c-d23f-4fc0-b42c-d484f0212910",
   "metadata": {},
   "outputs": [],
   "source": [
    "# Why XOR? Because it is a non-linearly separable problem\n",
    "# XOR problem training samples\n",
    "training_data = np.array([[0,0],[0,1],[1,0],[1,1]], \"float32\")\n",
    "\n",
    "# XOR problem target values accordingly \n",
    "target_data = np.array([[0],[1],[1],[0]], \"float32\")"
   ]
  },
  {
   "cell_type": "code",
   "execution_count": null,
   "id": "bc152f4f-04ba-4737-b7a8-735bc8cd0f97",
   "metadata": {},
   "outputs": [],
   "source": [
    "# we can define the neural network layers in a sequential manner\n",
    "model = Sequential()\n",
    "# first parameter is output dimension\n",
    "model.add(Dense(16, input_dim=2, activation='relu'))\n",
    "model.add(Dense(16, input_dim=16, activation='relu'))\n",
    "model.add(Dense(16, input_dim=16, activation='relu'))\n",
    "model.add(Dense(16, input_dim=16, activation='relu'))\n",
    "model.add(Dense(16, input_dim=16, activation='relu'))\n",
    "model.add(Dense(16, input_dim=16, activation='relu'))\n",
    "model.add(Dense(16, input_dim=16, activation='relu'))\n",
    "model.add(Dense(1, activation='sigmoid'))"
   ]
  },
  {
   "cell_type": "code",
   "execution_count": null,
   "id": "df75b2a8-51fd-4585-a15e-25d77cffdd9e",
   "metadata": {},
   "outputs": [],
   "source": [
    "model"
   ]
  },
  {
   "cell_type": "code",
   "execution_count": null,
   "id": "504d094c-0a5a-489b-b666-9d244d3a8085",
   "metadata": {},
   "outputs": [],
   "source": [
    "#we can define the loss function MSE or negative log lokelihood\n",
    "#optimizer will find the right adjustements for the weights: SGD, Adagrad, ADAM ...\n",
    "model.compile(loss='mean_squared_error',\n",
    "              optimizer='adam',\n",
    "              metrics=['binary_accuracy'])"
   ]
  },
  {
   "cell_type": "code",
   "execution_count": null,
   "id": "1e3c41af-cbf6-43c7-a41c-a7868e706180",
   "metadata": {},
   "outputs": [],
   "source": [
    "#epoch is an iteration over the entire dataset\n",
    "#verbose 0 is silent 1 and 2 are showing results\n",
    "model.fit(training_data, target_data, epochs=500, verbose=2)"
   ]
  },
  {
   "cell_type": "code",
   "execution_count": null,
   "id": "afefd879-23f7-475c-b5ca-43a3e84b8d78",
   "metadata": {},
   "outputs": [],
   "source": [
    "#of course we can make prediction with the trained neural network\n",
    "print(model.predict(training_data).round())"
   ]
  },
  {
   "cell_type": "code",
   "execution_count": null,
   "id": "13e84848-0891-4412-9e20-82d90dbf33d6",
   "metadata": {},
   "outputs": [],
   "source": []
  },
  {
   "cell_type": "code",
   "execution_count": null,
   "id": "b709803f-6440-4d5d-8f70-8619cc6f9654",
   "metadata": {},
   "outputs": [],
   "source": []
  },
  {
   "cell_type": "code",
   "execution_count": null,
   "id": "e24c690e-7e99-4089-8ad4-589632befa81",
   "metadata": {},
   "outputs": [],
   "source": []
  },
  {
   "cell_type": "code",
   "execution_count": null,
   "id": "5522f349-7b40-4b58-a5a2-ef2315cceff1",
   "metadata": {},
   "outputs": [],
   "source": []
  }
 ],
 "metadata": {
  "kernelspec": {
   "display_name": "Python 3 (ipykernel)",
   "language": "python",
   "name": "python3"
  },
  "language_info": {
   "codemirror_mode": {
    "name": "ipython",
    "version": 3
   },
   "file_extension": ".py",
   "mimetype": "text/x-python",
   "name": "python",
   "nbconvert_exporter": "python",
   "pygments_lexer": "ipython3",
   "version": "3.10.9"
  }
 },
 "nbformat": 4,
 "nbformat_minor": 5
}
