{
 "cells": [
  {
   "cell_type": "code",
   "execution_count": null,
   "id": "c4456862-c804-4a97-9d2a-8223b69583ca",
   "metadata": {},
   "outputs": [],
   "source": [
    "# DNN for Smile recognition"
   ]
  },
  {
   "cell_type": "code",
   "execution_count": null,
   "id": "4c82eaa8-391c-473c-bc19-416db3a2ddc8",
   "metadata": {},
   "outputs": [],
   "source": []
  },
  {
   "cell_type": "code",
   "execution_count": null,
   "id": "644c8f25-dc57-4fff-af08-d0a61a06c45e",
   "metadata": {},
   "outputs": [],
   "source": []
  },
  {
   "cell_type": "code",
   "execution_count": null,
   "id": "d256a3c9-c791-45cd-91a2-4f01a634a8aa",
   "metadata": {},
   "outputs": [],
   "source": []
  },
  {
   "cell_type": "code",
   "execution_count": null,
   "id": "8bfea746-bf34-4df3-a28d-cb085dd8abe1",
   "metadata": {},
   "outputs": [],
   "source": []
  },
  {
   "cell_type": "code",
   "execution_count": null,
   "id": "587e46d1-0630-4505-b4d6-e980e38fe571",
   "metadata": {},
   "outputs": [],
   "source": []
  }
 ],
 "metadata": {
  "kernelspec": {
   "display_name": "Python 3 (ipykernel)",
   "language": "python",
   "name": "python3"
  },
  "language_info": {
   "codemirror_mode": {
    "name": "ipython",
    "version": 3
   },
   "file_extension": ".py",
   "mimetype": "text/x-python",
   "name": "python",
   "nbconvert_exporter": "python",
   "pygments_lexer": "ipython3",
   "version": "3.10.9"
  }
 },
 "nbformat": 4,
 "nbformat_minor": 5
}
