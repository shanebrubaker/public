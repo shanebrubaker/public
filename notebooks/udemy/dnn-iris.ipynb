{
 "cells": [
  {
   "cell_type": "code",
   "execution_count": null,
   "id": "849f19e9-8e42-4d38-bb1b-31a681960936",
   "metadata": {},
   "outputs": [],
   "source": [
    "# Deep Neural network implementation for Iris dataset - multi-class classification\n",
    "from keras.models import Sequential\n",
    "from keras.layers import Dense\n",
    "from sklearn.preprocessing import OneHotEncoder\n",
    "from sklearn.datasets import load_iris\n",
    "from sklearn.model_selection import train_test_split\n",
    "from keras.optimizers import Adam\n",
    "import tensorflow as tf"
   ]
  },
  {
   "cell_type": "code",
   "execution_count": null,
   "id": "85d33146-d5dd-48dc-8bf3-b2cc898804d2",
   "metadata": {},
   "outputs": [],
   "source": [
    "dataset = load_iris()\n",
    "\n",
    "features = dataset.data\n",
    "y = dataset.target.reshape(-1,1)"
   ]
  },
  {
   "cell_type": "code",
   "execution_count": null,
   "id": "2e591e56-7069-40d4-801e-fb7ab7de243e",
   "metadata": {},
   "outputs": [],
   "source": [
    "encoder = OneHotEncoder()\n",
    "targets = encoder.fit_transform(y)"
   ]
  },
  {
   "cell_type": "code",
   "execution_count": null,
   "id": "e66ae27b-ea86-440d-a703-478601235933",
   "metadata": {},
   "outputs": [],
   "source": [
    "train_features, test_features, train_targets, test_targets = train_test_split(features,targets, test_size=0.2)"
   ]
  },
  {
   "cell_type": "code",
   "execution_count": null,
   "id": "c7e6d505-fbbc-41b1-83b9-37f501c7e7e1",
   "metadata": {},
   "outputs": [],
   "source": [
    "model = Sequential()\n",
    "# first parameter is output dimension\n",
    "model.add(Dense(10, input_dim=4, activation='relu'))\n",
    "model.add(Dense(10, input_dim=10, activation='relu'))\n",
    "model.add(Dense(10, input_dim=10, activation='relu'))\n",
    "model.add(Dense(3, activation='softmax'))"
   ]
  },
  {
   "cell_type": "code",
   "execution_count": null,
   "id": "d2f4477f-bb2f-4f2a-a35a-7b27923cf871",
   "metadata": {},
   "outputs": [],
   "source": [
    "#we can define the loss function MSE or negative log lokelihood\n",
    "#optimizer will find the right adjustements for the weights: SGD, Adagrad, ADAM ...\n",
    "optimizer = Adam(lr=0.005)\n",
    "model.compile(loss='categorical_crossentropy',\n",
    "              optimizer=optimizer,\n",
    "              metrics=['accuracy'])"
   ]
  },
  {
   "cell_type": "code",
   "execution_count": null,
   "id": "a58b4a35-6722-49c9-a2a9-11b24bd0cffd",
   "metadata": {},
   "outputs": [],
   "source": []
  },
  {
   "cell_type": "code",
   "execution_count": null,
   "id": "a5ab1ae3-9951-45d2-96f8-7be7c7a9af6b",
   "metadata": {},
   "outputs": [],
   "source": [
    "# Note have to do this to avoid Sparse tensor error ##\n",
    "# Convert sparse tensor to dense tensor\n",
    "#train_targets_dense = tf.sparse.to_dense(train_targets, default_value=0.0)\n",
    "train_targets_dense = train_targets.toarray()\n",
    "#train_features_dense = train_features.toarray()\n"
   ]
  },
  {
   "cell_type": "code",
   "execution_count": null,
   "id": "ca7c6bd9-4095-40f2-b9df-b9e87e2e4d5b",
   "metadata": {},
   "outputs": [],
   "source": [
    "model.fit(x=train_features, y=train_targets_dense, epochs=1000, batch_size=20, verbose=2)"
   ]
  },
  {
   "cell_type": "code",
   "execution_count": 38,
   "id": "bcda9073-8938-4796-bd59-f67a51ac0975",
   "metadata": {},
   "outputs": [],
   "source": [
    "test_targets_dense = test_targets.toarray()"
   ]
  },
  {
   "cell_type": "code",
   "execution_count": 39,
   "id": "a8b53a01-e46a-4433-8d46-9c30b3f06a82",
   "metadata": {},
   "outputs": [
    {
     "name": "stdout",
     "output_type": "stream",
     "text": [
      "1/1 [==============================] - 0s 53ms/step - loss: 0.0123 - accuracy: 1.0000\n",
      "Accuracy on the test dataset: 1.00\n"
     ]
    }
   ],
   "source": [
    "results = model.evaluate(test_features, test_targets_dense)\n",
    "\n",
    "print(\"Accuracy on the test dataset: %.2f\" % results[1])"
   ]
  },
  {
   "cell_type": "code",
   "execution_count": null,
   "id": "5a64d1e2-6d2d-4db2-8380-bddf960ca3f6",
   "metadata": {},
   "outputs": [],
   "source": []
  },
  {
   "cell_type": "code",
   "execution_count": null,
   "id": "bbf2a4d1-e80e-4c91-82d5-96f36e3a0ba5",
   "metadata": {},
   "outputs": [],
   "source": []
  },
  {
   "cell_type": "code",
   "execution_count": null,
   "id": "f8cfc7e4-c180-46c3-a875-06eeb4627ad5",
   "metadata": {},
   "outputs": [],
   "source": []
  },
  {
   "cell_type": "code",
   "execution_count": null,
   "id": "58c02aa5-372f-4952-a49b-a00438fb5594",
   "metadata": {},
   "outputs": [],
   "source": []
  }
 ],
 "metadata": {
  "kernelspec": {
   "display_name": "Python 3 (ipykernel)",
   "language": "python",
   "name": "python3"
  },
  "language_info": {
   "codemirror_mode": {
    "name": "ipython",
    "version": 3
   },
   "file_extension": ".py",
   "mimetype": "text/x-python",
   "name": "python",
   "nbconvert_exporter": "python",
   "pygments_lexer": "ipython3",
   "version": "3.10.9"
  }
 },
 "nbformat": 4,
 "nbformat_minor": 5
}
