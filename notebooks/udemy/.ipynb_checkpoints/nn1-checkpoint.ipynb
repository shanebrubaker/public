{
 "cells": [
  {
   "cell_type": "code",
   "execution_count": null,
   "id": "9d498dfc-bb05-4658-9cdf-c3ecc2bc1f1c",
   "metadata": {
    "tags": []
   },
   "outputs": [],
   "source": [
    "# NN 1 - Iris Dataset"
   ]
  },
  {
   "cell_type": "code",
   "execution_count": null,
   "id": "7e7abdd5-e47a-4bb2-9658-a74067f79f53",
   "metadata": {},
   "outputs": [],
   "source": [
    "from keras.models import Sequential\n",
    "from keras.layers import Dense\n",
    "from sklearn.preprocessing import OneHotEncoder\n",
    "from sklearn.datasets import load_iris\n",
    "from sklearn.model_selection import train_test_split\n",
    "from keras.optimizers import Adam, SGD\n",
    "import tensorflow as tf\n",
    "import numpy as np"
   ]
  },
  {
   "cell_type": "code",
   "execution_count": null,
   "id": "a9d0b231-32cc-4f20-9342-b4a941c2e7eb",
   "metadata": {},
   "outputs": [],
   "source": [
    "dataset = load_iris()\n",
    "\n",
    "# y are the lables\n",
    "features = dataset.data\n",
    "y = dataset.target.reshape(-1,1)"
   ]
  },
  {
   "cell_type": "code",
   "execution_count": null,
   "id": "d81eba51-d319-4ab9-91da-feb8cd76a043",
   "metadata": {},
   "outputs": [],
   "source": [
    "encoder = OneHotEncoder()\n",
    "targets = encoder.fit_transform(y)"
   ]
  },
  {
   "cell_type": "code",
   "execution_count": null,
   "id": "769c83d4-6aee-4dee-8dc7-5996088c96a1",
   "metadata": {},
   "outputs": [],
   "source": [
    "train_features, test_features, train_targets, test_targets = train_test_split(features,targets, test_size=0.2)\n",
    "\n",
    "model = Sequential()\n",
    "# first parameter is output dimension\n",
    "model.add(Dense(10, input_dim=4, activation='relu'))\n",
    "model.add(Dense(10, input_dim=10, activation='relu'))\n",
    "model.add(Dense(10, input_dim=10, activation='relu'))\n",
    "model.add(Dense(3, activation='softmax'))"
   ]
  },
  {
   "cell_type": "code",
   "execution_count": null,
   "id": "62861ccf-323d-4ebe-8d3e-a41629a05ea0",
   "metadata": {},
   "outputs": [],
   "source": [
    "#we can define the loss function MSE or negative log lokelihood\n",
    "#optimizer will find the right adjustements for the weights: SGD, Adagrad, ADAM ...\n",
    "# optimizer = Adam(lr=0.005)\n",
    "optimizer = SGD(learning_rate=0.005)\n",
    "model.compile(loss='categorical_crossentropy',\n",
    "              optimizer=optimizer,\n",
    "              metrics=['accuracy'])"
   ]
  },
  {
   "cell_type": "code",
   "execution_count": null,
   "id": "3d0a5ad2-2146-4da8-b224-2a7c183b10fe",
   "metadata": {},
   "outputs": [],
   "source": [
    "train_targets_dense = train_targets.toarray()\n",
    "# Note need to convert sparse to dense matrix here and below"
   ]
  },
  {
   "cell_type": "code",
   "execution_count": null,
   "id": "724cd96a-2b32-4ea5-8bac-7f0411c63782",
   "metadata": {},
   "outputs": [],
   "source": [
    "model.fit(train_features, train_targets_dense, epochs=1000, batch_size=20, verbose=2)"
   ]
  },
  {
   "cell_type": "code",
   "execution_count": 32,
   "id": "9826f998-3af9-44f9-adda-3eb83a33cb85",
   "metadata": {},
   "outputs": [
    {
     "name": "stdout",
     "output_type": "stream",
     "text": [
      "1/1 [==============================] - 0s 60ms/step - loss: 0.4939 - accuracy: 0.9000\n",
      "Accuracy on the test dataset: 0.90\n"
     ]
    }
   ],
   "source": [
    "test_targets_dense = test_targets.toarray()\n",
    "results = model.evaluate(test_features, test_targets_dense)\n",
    "print(\"Accuracy on the test dataset: %.2f\" % results[1])"
   ]
  },
  {
   "cell_type": "code",
   "execution_count": null,
   "id": "eaf3f5bc-e1d5-4b47-a122-fd347082dae0",
   "metadata": {},
   "outputs": [],
   "source": [
    "# Accuracy is 0.9!"
   ]
  },
  {
   "cell_type": "code",
   "execution_count": null,
   "id": "cd484d25-3ca2-47a1-82ac-6e03c0616d0a",
   "metadata": {},
   "outputs": [],
   "source": []
  },
  {
   "cell_type": "code",
   "execution_count": null,
   "id": "b2d2ca4a-413f-4357-a7f5-1c1162da2051",
   "metadata": {},
   "outputs": [],
   "source": []
  }
 ],
 "metadata": {
  "kernelspec": {
   "display_name": "Python 3 (ipykernel)",
   "language": "python",
   "name": "python3"
  },
  "language_info": {
   "codemirror_mode": {
    "name": "ipython",
    "version": 3
   },
   "file_extension": ".py",
   "mimetype": "text/x-python",
   "name": "python",
   "nbconvert_exporter": "python",
   "pygments_lexer": "ipython3",
   "version": "3.10.9"
  }
 },
 "nbformat": 4,
 "nbformat_minor": 5
}
