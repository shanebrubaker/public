{
 "cells": [
  {
   "cell_type": "code",
   "execution_count": null,
   "id": "c4456862-c804-4a97-9d2a-8223b69583ca",
   "metadata": {},
   "outputs": [],
   "source": [
    "# DNN for Smile recognition"
   ]
  },
  {
   "cell_type": "code",
   "execution_count": 1,
   "id": "4c82eaa8-391c-473c-bc19-416db3a2ddc8",
   "metadata": {},
   "outputs": [],
   "source": [
    "# Import Libraries\n",
    "from PIL import Image\n",
    "import os\n",
    "import numpy as np\n",
    "from keras.models import Sequential\n",
    "from keras.layers import Dense\n",
    "from keras.optimizers import Adam"
   ]
  },
  {
   "cell_type": "code",
   "execution_count": 2,
   "id": "644c8f25-dc57-4fff-af08-d0a61a06c45e",
   "metadata": {},
   "outputs": [],
   "source": [
    "directory = '/Users/shanebrubaker/Desktop/Courses/PythonMachineLearning/Datasets/Datasets/smiles_dataset'"
   ]
  },
  {
   "cell_type": "code",
   "execution_count": 3,
   "id": "d256a3c9-c791-45cd-91a2-4f01a634a8aa",
   "metadata": {},
   "outputs": [],
   "source": [
    "pixel_intensities = []\n",
    "# one-hot encoding: happy (1,0) and sad (0,1)"
   ]
  },
  {
   "cell_type": "code",
   "execution_count": 4,
   "id": "8bfea746-bf34-4df3-a28d-cb085dd8abe1",
   "metadata": {},
   "outputs": [],
   "source": [
    "labels = []"
   ]
  },
  {
   "cell_type": "code",
   "execution_count": null,
   "id": "587e46d1-0630-4505-b4d6-e980e38fe571",
   "metadata": {},
   "outputs": [],
   "source": [
    "for filename in os.listdir(directory):\n",
    "    image = Image.open(directory+filename).convert('1')\n",
    "                                            "
   ]
  },
  {
   "cell_type": "code",
   "execution_count": null,
   "id": "e2c01dee-2728-4a19-931a-bc35f2016ee1",
   "metadata": {},
   "outputs": [],
   "source": []
  },
  {
   "cell_type": "code",
   "execution_count": null,
   "id": "2088a248-1337-4c7b-af89-4ce0a8822b60",
   "metadata": {},
   "outputs": [],
   "source": []
  },
  {
   "cell_type": "code",
   "execution_count": null,
   "id": "8e44abd1-8ea6-44a5-b0c0-056fae32c0d5",
   "metadata": {},
   "outputs": [],
   "source": []
  },
  {
   "cell_type": "code",
   "execution_count": null,
   "id": "65ed925b-0d9b-4cf9-9782-272b9510595d",
   "metadata": {},
   "outputs": [],
   "source": []
  },
  {
   "cell_type": "code",
   "execution_count": null,
   "id": "86ecfa1c-98c5-4116-907c-2c654bb611df",
   "metadata": {},
   "outputs": [],
   "source": []
  },
  {
   "cell_type": "code",
   "execution_count": null,
   "id": "97d59b3f-4ce5-4e91-8150-bc8db615a690",
   "metadata": {},
   "outputs": [],
   "source": []
  }
 ],
 "metadata": {
  "kernelspec": {
   "display_name": "Python 3 (ipykernel)",
   "language": "python",
   "name": "python3"
  },
  "language_info": {
   "codemirror_mode": {
    "name": "ipython",
    "version": 3
   },
   "file_extension": ".py",
   "mimetype": "text/x-python",
   "name": "python",
   "nbconvert_exporter": "python",
   "pygments_lexer": "ipython3",
   "version": "3.10.9"
  }
 },
 "nbformat": 4,
 "nbformat_minor": 5
}
