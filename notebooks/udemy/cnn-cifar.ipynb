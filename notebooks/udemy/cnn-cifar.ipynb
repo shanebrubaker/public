{
 "cells": [
  {
   "cell_type": "code",
   "execution_count": null,
   "id": "46ef9671-ac81-40da-8a65-0e6ca17764e3",
   "metadata": {},
   "outputs": [],
   "source": [
    "# CNN with CIFAR-10 Dataset\n",
    "# Object classification"
   ]
  },
  {
   "cell_type": "code",
   "execution_count": null,
   "id": "81499ff7-4582-4eba-a294-59ab2b265efb",
   "metadata": {},
   "outputs": [],
   "source": [
    "# Import Libraries #\n",
    "from keras.datasets import cifar10\n",
    "from keras.utils import to_categorical\n",
    "from keras.models import Sequential\n",
    "from keras.layers import Conv2D\n",
    "from keras.layers import MaxPooling2D\n",
    "from keras.layers import Dense\n",
    "from keras.layers import Flatten\n",
    "from keras.layers import Dropout\n",
    "from keras.optimizers import SGD\n",
    "from keras.layers import BatchNormalization"
   ]
  },
  {
   "cell_type": "code",
   "execution_count": null,
   "id": "4e29025b-6509-4379-b36a-bd48671152b8",
   "metadata": {},
   "outputs": [],
   "source": [
    "# load data - 50k training and 10k test samples\n",
    "# 32x32 pixel image - 10 output classes (labels)\n",
    "(X_train, y_train), (X_test, y_test) = cifar10.load_data()"
   ]
  },
  {
   "cell_type": "code",
   "execution_count": null,
   "id": "d36e77e3-68d7-4515-b17f-3db7b3e01e40",
   "metadata": {},
   "outputs": [],
   "source": [
    "# RBG colored images\n",
    "print(X_train.shape)"
   ]
  },
  {
   "cell_type": "code",
   "execution_count": null,
   "id": "7bdb4932-2c3d-49e8-817f-b4db50ef9282",
   "metadata": {},
   "outputs": [],
   "source": [
    "# one hot encoding for labels\n",
    "# 0 - [1,0,0....] (airplanes)\n",
    "# .. etc ..\n",
    "y_train = to_categorical(y_train)\n",
    "y_test = to_categorical(y_test)"
   ]
  },
  {
   "cell_type": "code",
   "execution_count": null,
   "id": "fdcd4566-35b0-4b5f-b655-a42864c7bf0f",
   "metadata": {},
   "outputs": [],
   "source": [
    "print(y_train)"
   ]
  },
  {
   "cell_type": "code",
   "execution_count": null,
   "id": "f18cebc0-e117-480c-8efc-d57e4ec4e8cc",
   "metadata": {},
   "outputs": [],
   "source": [
    "# Normalize\n",
    "X_train = X_train / 255.0\n",
    "X_test = X_test / 255.0"
   ]
  },
  {
   "cell_type": "code",
   "execution_count": null,
   "id": "837b15ec-0b15-43c9-8e75-a0a8cc47dc6f",
   "metadata": {},
   "outputs": [],
   "source": [
    "# construct CNN model\n",
    "model = Sequential()\n",
    "model.add(Conv2D(32, (3,3), activation='relu', kernel_initializer='he_uniform', padding='same', input_shape=(32,32,3)))\n",
    "model.add(BatchNormalization())\n",
    "model.add(Conv2D(32, (3,3), activation='relu', kernel_initializer='he_uniform', padding='same', input_shape=(32,32,3)))\n",
    "model.add(BatchNormalization())\n",
    "model.add(MaxPooling2D((2,2)))\n",
    "model.add(Dropout(0.2))\n",
    "model.add(Conv2D(32, (3,3), activation='relu', kernel_initializer='he_uniform', padding='same', input_shape=(32,32,3)))\n",
    "model.add(BatchNormalization())\n",
    "model.add(Conv2D(32, (3,3), activation='relu', kernel_initializer='he_uniform', padding='same', input_shape=(32,32,3)))\n",
    "model.add(BatchNormalization())\n",
    "model.add(MaxPooling2D((2,2)))\n",
    "model.add(Dropout(0.2))\n",
    "model.add(Conv2D(32, (3,3), activation='relu', kernel_initializer='he_uniform', padding='same', input_shape=(32,32,3)))\n",
    "model.add(BatchNormalization())\n",
    "model.add(MaxPooling2D((2,2)))\n",
    "model.add(Dropout(0.2))\n",
    "model.add(Flatten())\n",
    "model.add(Dense(128, activation='relu', kernel_initializer='he_uniform'))\n",
    "model.add(Dropout(0.2))\n",
    "model.add(Dense(10, activation='softmax'))\n"
   ]
  },
  {
   "cell_type": "code",
   "execution_count": null,
   "id": "8f92a665-3dbb-44e4-a38e-cdf537011f60",
   "metadata": {},
   "outputs": [],
   "source": [
    "# Train the model\n",
    "optimizer = SGD(lr=0.001, momentum=0.95)\n",
    "model.compile(optimizer=optimizer, loss='categorical_crossentropy', metrics=['accuracy'])\n",
    "history = model.fit(X_train, y_train, epochs=50, batch_size=64, validation_data=(X_test,y_test), verbose=0)"
   ]
  },
  {
   "cell_type": "code",
   "execution_count": null,
   "id": "fc4bc1c5-0143-4079-aaf1-1410b56408b2",
   "metadata": {},
   "outputs": [],
   "source": [
    "# Evaluate the model\n",
    "model_result = model.evaluate(X_test, y_test, verbose=0)\n",
    "print('Accuracy of the CNN model: %s' % (model_result[1] * 100.0))"
   ]
  },
  {
   "cell_type": "code",
   "execution_count": null,
   "id": "18b7e578-f8f1-41fc-afac-3362f5f6edc3",
   "metadata": {},
   "outputs": [],
   "source": [
    "# Accuracy was improved by using regularization (dropout)\n",
    "# Accuracy 82%"
   ]
  },
  {
   "cell_type": "code",
   "execution_count": null,
   "id": "c30e0da9-e5f3-486a-b75c-a5692f3a3039",
   "metadata": {},
   "outputs": [],
   "source": []
  },
  {
   "cell_type": "code",
   "execution_count": null,
   "id": "47f532d2-1f29-4901-8c75-840427241dff",
   "metadata": {},
   "outputs": [],
   "source": []
  }
 ],
 "metadata": {
  "kernelspec": {
   "display_name": "Python 3 (ipykernel)",
   "language": "python",
   "name": "python3"
  },
  "language_info": {
   "codemirror_mode": {
    "name": "ipython",
    "version": 3
   },
   "file_extension": ".py",
   "mimetype": "text/x-python",
   "name": "python",
   "nbconvert_exporter": "python",
   "pygments_lexer": "ipython3",
   "version": "3.10.9"
  }
 },
 "nbformat": 4,
 "nbformat_minor": 5
}
